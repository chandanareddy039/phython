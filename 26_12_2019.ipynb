{
  "nbformat": 4,
  "nbformat_minor": 0,
  "metadata": {
    "colab": {
      "name": "26-12-2019.ipynb",
      "provenance": [],
      "include_colab_link": true
    },
    "kernelspec": {
      "name": "python3",
      "display_name": "Python 3"
    }
  },
  "cells": [
    {
      "cell_type": "markdown",
      "metadata": {
        "id": "view-in-github",
        "colab_type": "text"
      },
      "source": [
        "<a href=\"https://colab.research.google.com/github/chandanareddy039/phython/blob/master/26_12_2019.ipynb\" target=\"_parent\"><img src=\"https://colab.research.google.com/assets/colab-badge.svg\" alt=\"Open In Colab\"/></a>"
      ]
    },
    {
      "cell_type": "code",
      "metadata": {
        "id": "pOwVhTWgXFhW",
        "colab_type": "code",
        "colab": {}
      },
      "source": [
        ""
      ],
      "execution_count": 0,
      "outputs": []
    },
    {
      "cell_type": "markdown",
      "metadata": {
        "id": "ya6C7VvoXPHK",
        "colab_type": "text"
      },
      "source": [
        "# TO find large number from given 3 numbers"
      ]
    },
    {
      "cell_type": "code",
      "metadata": {
        "id": "FAsckYYUXX7w",
        "colab_type": "code",
        "outputId": "3452781b-c39e-435d-ded9-73f650c05821",
        "colab": {
          "base_uri": "https://localhost:8080/",
          "height": 85
        }
      },
      "source": [
        "a=int(input(\"enter a values\"))\n",
        "b=int(input(\"enter b values\"))\n",
        "c=int(input(\"enter c value\"))\n",
        "if(a>b and a>c):\n",
        " print(\"a is largest\")\n",
        "elif(b>c and b>a):\n",
        "  print(\"b is largest\")\n",
        "else:\n",
        "    print(\"c is largest\")"
      ],
      "execution_count": 0,
      "outputs": [
        {
          "output_type": "stream",
          "text": [
            "enter a values3\n",
            "enter b values4\n",
            "enter c value3\n",
            "b is largest\n"
          ],
          "name": "stdout"
        }
      ]
    },
    {
      "cell_type": "markdown",
      "metadata": {
        "id": "UgGs6ecVZrtf",
        "colab_type": "text"
      },
      "source": [
        "#WHILE STATEMENTS\n",
        "###syntax\n",
        "####while boolean condition:<br>\n",
        "          statements<br>\n",
        "          increment/decrement<br>     "
      ]
    },
    {
      "cell_type": "code",
      "metadata": {
        "id": "t-SIAC0UaSi4",
        "colab_type": "code",
        "outputId": "e7e51bee-e676-4f77-8974-82ed3eca208c",
        "colab": {
          "base_uri": "https://localhost:8080/"
        }
      },
      "source": [
        "x=0\n",
        "while x<5:\n",
        "    print(\"gitam\")\n",
        "    x=x+1\n"
      ],
      "execution_count": 0,
      "outputs": [
        {
          "output_type": "stream",
          "text": [
            "gitam\n",
            "gitam\n",
            "gitam\n",
            "gitam\n",
            "gitam\n"
          ],
          "name": "stdout"
        }
      ]
    },
    {
      "cell_type": "markdown",
      "metadata": {
        "id": "9xpTwuqmc8an",
        "colab_type": "text"
      },
      "source": [
        ""
      ]
    },
    {
      "cell_type": "markdown",
      "metadata": {
        "id": "ZGxcVrk-c915",
        "colab_type": "text"
      },
      "source": [
        "#PRINT N NATURAL NUMBER USING WHILE LOOP"
      ]
    },
    {
      "cell_type": "code",
      "metadata": {
        "id": "tYj0FqAGdFrO",
        "colab_type": "code",
        "outputId": "06687e3e-dfeb-4a9c-fd87-4d9fef9a9239",
        "colab": {
          "base_uri": "https://localhost:8080/",
          "height": 51
        }
      },
      "source": [
        "n=int(input(\"print numbers\"))\n",
        "i=0\n",
        "while i<n:\n",
        "  i=i+1\n",
        "  print(i,end=' ')\n"
      ],
      "execution_count": 0,
      "outputs": [
        {
          "output_type": "stream",
          "text": [
            "print numbers10\n",
            "1 2 3 4 5 6 7 8 9 10 "
          ],
          "name": "stdout"
        }
      ]
    },
    {
      "cell_type": "markdown",
      "metadata": {
        "id": "4F4Cn0-8fCfB",
        "colab_type": "text"
      },
      "source": [
        "#ADD ONLY EVEN NUMBERES"
      ]
    },
    {
      "cell_type": "code",
      "metadata": {
        "id": "KZTlk2j_fJr_",
        "colab_type": "code",
        "outputId": "b56fc1c2-77df-4a31-dadf-dfedaa1adc7a",
        "colab": {
          "base_uri": "https://localhost:8080/",
          "height": 51
        }
      },
      "source": [
        "n=int(input(\"print numbers\"))\n",
        "i=1\n",
        "sum=0\n",
        "while i<=n:\n",
        "    if i%2==0:\n",
        "        sum=sum+i\n",
        "    i=i+1\n",
        "print(sum)"
      ],
      "execution_count": 0,
      "outputs": [
        {
          "output_type": "stream",
          "text": [
            "print numbers10\n",
            "30\n"
          ],
          "name": "stdout"
        }
      ]
    },
    {
      "cell_type": "markdown",
      "metadata": {
        "id": "Dg1EqrXdjfpp",
        "colab_type": "text"
      },
      "source": [
        ""
      ]
    },
    {
      "cell_type": "markdown",
      "metadata": {
        "id": "p2yM-1Yjjiam",
        "colab_type": "text"
      },
      "source": [
        "#PALINDROME OR NOT"
      ]
    },
    {
      "cell_type": "code",
      "metadata": {
        "id": "WdRAdGZtjmEY",
        "colab_type": "code",
        "outputId": "bee0ed4d-5711-4d24-c1af-04a3f844ce32",
        "colab": {
          "base_uri": "https://localhost:8080/",
          "height": 51
        }
      },
      "source": [
        "n=int(input(\"enter number\"))\n",
        "while n!=0:\n",
        "    r=n%10\n",
        "    print(r,end=\" \")\n",
        "    n=n//10"
      ],
      "execution_count": 0,
      "outputs": [
        {
          "output_type": "stream",
          "text": [
            "enter number123\n",
            "3 2 1 "
          ],
          "name": "stdout"
        }
      ]
    },
    {
      "cell_type": "markdown",
      "metadata": {
        "id": "j53mgBmpkgkf",
        "colab_type": "text"
      },
      "source": [
        "#Functional programming\n",
        "- simple\n",
        "- easy read\n",
        "- lengthy program divide into sub programs\n"
      ]
    },
    {
      "cell_type": "markdown",
      "metadata": {
        "id": "ajKyIUqEk8SH",
        "colab_type": "text"
      },
      "source": [
        "## SYNTAX:\n",
        "- def nameofthefunction(<parameters>):\n",
        "    - statments\n",
        "    - return"
      ]
    },
    {
      "cell_type": "code",
      "metadata": {
        "id": "rZusKu0jlS_o",
        "colab_type": "code",
        "outputId": "76d7e549-8cb9-495b-a7c7-08de7ce1b33d",
        "colab": {
          "base_uri": "https://localhost:8080/",
          "height": 34
        }
      },
      "source": [
        "def addevendigits(n):\n",
        "    sum=0\n",
        "    while n!=0:\n",
        "        r=n%10\n",
        "        if r%2==0:\n",
        "            sum=sum+r\n",
        "        n=n//10\n",
        "    return sum\n",
        "addevendigits(1234)"
      ],
      "execution_count": 0,
      "outputs": [
        {
          "output_type": "execute_result",
          "data": {
            "text/plain": [
              "6"
            ]
          },
          "metadata": {
            "tags": []
          },
          "execution_count": 28
        }
      ]
    },
    {
      "cell_type": "markdown",
      "metadata": {
        "id": "DqbaTzhio-qT",
        "colab_type": "text"
      },
      "source": [
        "# READ INPUT\n",
        "- # INPUT:123\n",
        "- # OUTPUT:321\n"
      ]
    },
    {
      "cell_type": "code",
      "metadata": {
        "id": "LPikqc2hpXLP",
        "colab_type": "code",
        "outputId": "9c605b7f-9bec-4004-de51-54793ce4394a",
        "colab": {
          "base_uri": "https://localhost:8080/",
          "height": 34
        }
      },
      "source": [
        "def readinput(n):\n",
        "  while n!=0:\n",
        "    r=n%10\n",
        "    print(r,end=\" \")\n",
        "    n=n//10\n",
        "readinput(123)\n",
        "  "
      ],
      "execution_count": 0,
      "outputs": [
        {
          "output_type": "stream",
          "text": [
            "3 2 1 "
          ],
          "name": "stdout"
        }
      ]
    },
    {
      "cell_type": "markdown",
      "metadata": {
        "id": "KyB3jg2frrcE",
        "colab_type": "text"
      },
      "source": [
        "#read input\n",
        "- input:19528\n",
        "- output:9"
      ]
    },
    {
      "cell_type": "code",
      "metadata": {
        "id": "_mIcykCor4cH",
        "colab_type": "code",
        "outputId": "8b62a85a-ae7e-4536-d720-13c12c9161cd",
        "colab": {
          "base_uri": "https://localhost:8080/",
          "height": 34
        }
      },
      "source": [
        "def largest(n):\n",
        "  l=0\n",
        "  while n!=0:\n",
        "     r=n%10\n",
        "     if r>l:\n",
        "       l=r\n",
        "       n=n//10\n",
        "  return l\n",
        "largest(9876)\n",
        "\n",
        "  "
      ],
      "execution_count": 0,
      "outputs": [
        {
          "output_type": "execute_result",
          "data": {
            "text/plain": [
              "9"
            ]
          },
          "metadata": {
            "tags": []
          },
          "execution_count": 36
        }
      ]
    },
    {
      "cell_type": "markdown",
      "metadata": {
        "id": "PudbukAJy1tD",
        "colab_type": "text"
      },
      "source": [
        "# PALINDROME OR NOT"
      ]
    },
    {
      "cell_type": "code",
      "metadata": {
        "id": "3SZ6dmvny954",
        "colab_type": "code",
        "outputId": "679b20b6-76a4-49e5-9985-b9d60ffbaacc",
        "colab": {
          "base_uri": "https://localhost:8080/",
          "height": 51
        }
      },
      "source": [
        "def ispalindrome(n):\n",
        "    rev=0\n",
        "    buffer=n\n",
        "    while n!=0:\n",
        "         r=n%10\n",
        "         rev=rev*10+r\n",
        "         n=n//10\n",
        "    if buffer==rev:\n",
        "      return \"yes\"\n",
        "    else:\n",
        "       return \"no\"\n",
        "print(ispalindrome(123))\n",
        "print(ispalindrome(121))\n",
        "      "
      ],
      "execution_count": 0,
      "outputs": [
        {
          "output_type": "stream",
          "text": [
            "no\n",
            "yes\n"
          ],
          "name": "stdout"
        }
      ]
    },
    {
      "cell_type": "markdown",
      "metadata": {
        "id": "mAqyMuga0EBj",
        "colab_type": "text"
      },
      "source": [
        "# FUNCTON TO PRINT N NATURAL NUMBERS"
      ]
    },
    {
      "cell_type": "code",
      "metadata": {
        "id": "9FeuusAg0JQy",
        "colab_type": "code",
        "outputId": "f7c01c05-90dc-42e9-e579-e2abb0168725",
        "colab": {
          "base_uri": "https://localhost:8080/",
          "height": 34
        }
      },
      "source": [
        "def natural(n):\n",
        "    for i in range(1,n+1):\n",
        "        print(i,end=\" \")\n",
        "natural(10)"
      ],
      "execution_count": 0,
      "outputs": [
        {
          "output_type": "stream",
          "text": [
            "1 2 3 4 5 6 7 8 9 10 "
          ],
          "name": "stdout"
        }
      ]
    },
    {
      "cell_type": "code",
      "metadata": {
        "id": "i_lZeP5Z1yWg",
        "colab_type": "code",
        "outputId": "bf6baeba-5933-4f3c-a2fd-125f1587fa61",
        "colab": {
          "base_uri": "https://localhost:8080/",
          "height": 34
        }
      },
      "source": [
        "def natural(l,b):\n",
        "    for i in range(l,b+1):\n",
        "        print(i,end=\" \")\n",
        "natural(11,25)"
      ],
      "execution_count": 0,
      "outputs": [
        {
          "output_type": "stream",
          "text": [
            "11 12 13 14 15 16 17 18 19 20 21 22 23 24 25 "
          ],
          "name": "stdout"
        }
      ]
    },
    {
      "cell_type": "code",
      "metadata": {
        "id": "g85NJfrZ2wLA",
        "colab_type": "code",
        "outputId": "c446f3ca-2bf3-4610-a9c7-8bfb1b6545ce",
        "colab": {
          "base_uri": "https://localhost:8080/",
          "height": 34
        }
      },
      "source": [
        "def natural(l,b):\n",
        "    for i in range(l,b+1,4):\n",
        "        print(i,end=\" \")\n",
        "natural(1,10)"
      ],
      "execution_count": 0,
      "outputs": [
        {
          "output_type": "stream",
          "text": [
            "1 5 9 "
          ],
          "name": "stdout"
        }
      ]
    },
    {
      "cell_type": "code",
      "metadata": {
        "id": "KDJxJ3ZX3ZuA",
        "colab_type": "code",
        "outputId": "dca32f32-d191-49e5-bd4d-e36e8527eefc",
        "colab": {
          "base_uri": "https://localhost:8080/",
          "height": 34
        }
      },
      "source": [
        "def reverserange(l,b):\n",
        "    for i in range(b,l-1,-1):\n",
        "        print(i,end=\" \")\n",
        "reverserange(1,10)"
      ],
      "execution_count": 0,
      "outputs": [
        {
          "output_type": "stream",
          "text": [
            "10 9 8 7 6 5 4 3 2 1 "
          ],
          "name": "stdout"
        }
      ]
    },
    {
      "cell_type": "markdown",
      "metadata": {
        "id": "w-Tjs2C_5wSh",
        "colab_type": "text"
      },
      "source": [
        "#DATA STRUCTURE TYPES\n",
        "- list\n",
        "- tuple\n",
        "- dictionary"
      ]
    },
    {
      "cell_type": "markdown",
      "metadata": {
        "id": "_xTkyhPD5-m_",
        "colab_type": "text"
      },
      "source": [
        "#LIST:\n",
        "- Its one common datastrutue in phython,the items are separated by comma and enclosed by[]\n",
        "- crud operations\n",
        "- c- create\n",
        "- r - read\n",
        "- u - update\n",
        "- d - delete\n",
        "- list can be changed or mutable\n",
        "#example:\n",
        "- list={1,2,3,4}"
      ]
    },
    {
      "cell_type": "code",
      "metadata": {
        "id": "MJpaahgk7jE0",
        "colab_type": "code",
        "colab": {}
      },
      "source": [
        ""
      ],
      "execution_count": 0,
      "outputs": []
    }
  ]
}