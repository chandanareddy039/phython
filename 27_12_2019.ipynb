{
  "nbformat": 4,
  "nbformat_minor": 0,
  "metadata": {
    "colab": {
      "name": "27-12-2019.ipynb",
      "provenance": [],
      "include_colab_link": true
    },
    "kernelspec": {
      "name": "python3",
      "display_name": "Python 3"
    }
  },
  "cells": [
    {
      "cell_type": "markdown",
      "metadata": {
        "id": "view-in-github",
        "colab_type": "text"
      },
      "source": [
        "<a href=\"https://colab.research.google.com/github/chandanareddy039/phython/blob/master/27_12_2019.ipynb\" target=\"_parent\"><img src=\"https://colab.research.google.com/assets/colab-badge.svg\" alt=\"Open In Colab\"/></a>"
      ]
    },
    {
      "cell_type": "markdown",
      "metadata": {
        "id": "rsAwKQikei9H",
        "colab_type": "text"
      },
      "source": [
        "#LIST EXAMPLES"
      ]
    },
    {
      "cell_type": "code",
      "metadata": {
        "id": "hHrwYykcerQt",
        "colab_type": "code",
        "outputId": "198c43e8-791a-4a51-d59b-6f1cdcb13205",
        "colab": {
          "base_uri": "https://localhost:8080/",
          "height": 34
        }
      },
      "source": [
        "li=[\"gitam\",123,124,125,129,]\n",
        "print(li)"
      ],
      "execution_count": 0,
      "outputs": [
        {
          "output_type": "stream",
          "text": [
            "['gitam', 123, 124, 125, 129]\n"
          ],
          "name": "stdout"
        }
      ]
    },
    {
      "cell_type": "code",
      "metadata": {
        "id": "_WvXf8erfADf",
        "colab_type": "code",
        "outputId": "44ae5208-e499-47c6-f033-b15632408cd9",
        "colab": {
          "base_uri": "https://localhost:8080/",
          "height": 34
        }
      },
      "source": [
        "# update\n",
        "li[0]=\"siri\"\n",
        "print(li)"
      ],
      "execution_count": 0,
      "outputs": [
        {
          "output_type": "stream",
          "text": [
            "['siri', 123, 124, 129]\n"
          ],
          "name": "stdout"
        }
      ]
    },
    {
      "cell_type": "code",
      "metadata": {
        "id": "H0HnSVAXfTQG",
        "colab_type": "code",
        "outputId": "9473650b-7b12-424b-e66f-7961bbbde7de",
        "colab": {
          "base_uri": "https://localhost:8080/",
          "height": 34
        }
      },
      "source": [
        "#delete\n",
        "del li[3]\n",
        "print(li)"
      ],
      "execution_count": 0,
      "outputs": [
        {
          "output_type": "stream",
          "text": [
            "['siri', 123, 124]\n"
          ],
          "name": "stdout"
        }
      ]
    },
    {
      "cell_type": "code",
      "metadata": {
        "id": "H5Lu9Zx-gxBl",
        "colab_type": "code",
        "outputId": "339154b3-8bd9-4961-ef60-18ef5c62060c",
        "colab": {
          "base_uri": "https://localhost:8080/",
          "height": 85
        }
      },
      "source": [
        "li=[1,23,3,4,545]\n",
        "print(len(li))\n",
        "print(li*2)\n",
        "print(3 in li)\n",
        "print(4 in li)"
      ],
      "execution_count": 0,
      "outputs": [
        {
          "output_type": "stream",
          "text": [
            "5\n",
            "[1, 23, 3, 4, 545, 1, 23, 3, 4, 545]\n",
            "True\n",
            "True\n"
          ],
          "name": "stdout"
        }
      ]
    },
    {
      "cell_type": "markdown",
      "metadata": {
        "id": "as3qsgUNhgZu",
        "colab_type": "text"
      },
      "source": [
        "#BASIC LIST FUNCTIONS"
      ]
    },
    {
      "cell_type": "code",
      "metadata": {
        "id": "uq6KKQ4thldO",
        "colab_type": "code",
        "outputId": "079ca7d0-2fb3-47f3-935c-18ffd62ebece",
        "colab": {
          "base_uri": "https://localhost:8080/",
          "height": 85
        }
      },
      "source": [
        "li=[1,2,3,4,5]\n",
        "print(max(li))\n",
        "print(min(li))\n",
        "print(sum(li))\n",
        "print(sum(li)/len(li))\n"
      ],
      "execution_count": 0,
      "outputs": [
        {
          "output_type": "stream",
          "text": [
            "5\n",
            "1\n",
            "15\n",
            "3.0\n"
          ],
          "name": "stdout"
        }
      ]
    },
    {
      "cell_type": "code",
      "metadata": {
        "id": "FKEWfM3Wi3QY",
        "colab_type": "code",
        "outputId": "b8a9adce-4647-43f7-8c57-1ffebf69450b",
        "colab": {
          "base_uri": "https://localhost:8080/",
          "height": 51
        }
      },
      "source": [
        "li=[1,2,3,4,5]\n",
        "li.append(29)\n",
        "print(li)\n",
        "li.insert(2,56)\n",
        "print(li)"
      ],
      "execution_count": 0,
      "outputs": [
        {
          "output_type": "stream",
          "text": [
            "[1, 2, 3, 4, 5, 29]\n",
            "[1, 2, 56, 3, 4, 5, 29]\n"
          ],
          "name": "stdout"
        }
      ]
    },
    {
      "cell_type": "code",
      "metadata": {
        "id": "7T6YHyU9kQ8X",
        "colab_type": "code",
        "outputId": "c0fa346c-c8b5-48bc-e02a-aa60a9af9667",
        "colab": {
          "base_uri": "https://localhost:8080/",
          "height": 51
        }
      },
      "source": [
        "li=[1,9,89,56,45,12,9]\n",
        "li.sort()\n",
        "print(li)\n",
        "li.pop(1)\n",
        "print(li)"
      ],
      "execution_count": 0,
      "outputs": [
        {
          "output_type": "stream",
          "text": [
            "[1, 9, 9, 12, 45, 56, 89]\n",
            "[1, 9, 12, 45, 56, 89]\n"
          ],
          "name": "stdout"
        }
      ]
    },
    {
      "cell_type": "markdown",
      "metadata": {
        "id": "9iIv2jWUlCBn",
        "colab_type": "text"
      },
      "source": [
        "#FUNCTION TO RETURN LARGE NUMBER FROM LIST"
      ]
    },
    {
      "cell_type": "code",
      "metadata": {
        "id": "tT_8FShzlK0H",
        "colab_type": "code",
        "outputId": "79d3c296-f0b6-492b-b78e-bdefebfb64f6",
        "colab": {
          "base_uri": "https://localhost:8080/",
          "height": 51
        }
      },
      "source": [
        "def largenumber(li):\n",
        "    li.sort()\n",
        "    return li[-1]\n",
        "def genericlarge(li,n):\n",
        "    li.sort()\n",
        "    return li[-n]\n",
        "li=[19,1,3,87,32,21,36] \n",
        "print(largenumber(li))\n",
        "print(genericlarge(li,3))"
      ],
      "execution_count": 0,
      "outputs": [
        {
          "output_type": "stream",
          "text": [
            "87\n",
            "32\n"
          ],
          "name": "stdout"
        }
      ]
    },
    {
      "cell_type": "code",
      "metadata": {
        "id": "Q_ufqJcboCMK",
        "colab_type": "code",
        "outputId": "9fa426a2-6502-4049-c558-ae5866a0d78b",
        "colab": {
          "base_uri": "https://localhost:8080/",
          "height": 51
        }
      },
      "source": [
        "def smallnumber(li):\n",
        "    li.sort()\n",
        "    return li[2]\n",
        "def genericsmall(li,n):\n",
        "    li.sort()\n",
        "    return li[n-1]\n",
        "    li=[9,3,54,2,1]\n",
        "print(smallnumber(li))\n",
        "print(genericsmall(li,2))"
      ],
      "execution_count": 0,
      "outputs": [
        {
          "output_type": "stream",
          "text": [
            "19\n",
            "3\n"
          ],
          "name": "stdout"
        }
      ]
    },
    {
      "cell_type": "markdown",
      "metadata": {
        "id": "DECl16cdpPhP",
        "colab_type": "text"
      },
      "source": [
        "#TUPLE\n",
        "- values separated by,enclosed by paranthesis()\n",
        "- values cannot be changed i.e immutable\n",
        "# DIFFERENCE BETWEEN LIST AND TUPLE\n",
        "- list can be modified\n",
        "- used to acess means modify,add,delete,update\n",
        "- tuple cannot be modified\n",
        "- used to acess the data"
      ]
    },
    {
      "cell_type": "code",
      "metadata": {
        "id": "gIiefH_bq-0_",
        "colab_type": "code",
        "outputId": "aaba0d94-6dc3-4915-9795-690aa95f235c",
        "colab": {
          "base_uri": "https://localhost:8080/",
          "height": 51
        }
      },
      "source": [
        "t1=(1,2,3,4,5)\n",
        "print(t1)\n",
        "print(type(t1))"
      ],
      "execution_count": 0,
      "outputs": [
        {
          "output_type": "stream",
          "text": [
            "(1, 2, 3, 4, 5)\n",
            "<class 'tuple'>\n"
          ],
          "name": "stdout"
        }
      ]
    },
    {
      "cell_type": "markdown",
      "metadata": {
        "id": "P__7QiaJtuWG",
        "colab_type": "text"
      },
      "source": [
        "#DICTIONARY\n",
        "-it works on concept of set unique data\n",
        "- dictionary contains keys and  values \n",
        "- each key is separated from its values with colon\n",
        "- each key and values separated by comma\n",
        "dictionary enclosed by()\n"
      ]
    },
    {
      "cell_type": "code",
      "metadata": {
        "id": "ZnkzrCTKux8Y",
        "colab_type": "code",
        "colab": {
          "base_uri": "https://localhost:8080/",
          "height": 34
        },
        "outputId": "875fdb1b-4b05-462a-b85e-66a72810ff7b"
      },
      "source": [
        "d1=(\"name\",\"gitam\",\"email\",\"gitam@gmail.com\",\"adress\",\"hyderabad\")\n",
        "d1"
      ],
      "execution_count": 36,
      "outputs": [
        {
          "output_type": "execute_result",
          "data": {
            "text/plain": [
              "('name', 'gitam', 'email', 'gitam@gmail.com', 'adress', 'hyderabad')"
            ]
          },
          "metadata": {
            "tags": []
          },
          "execution_count": 36
        }
      ]
    },
    {
      "cell_type": "code",
      "metadata": {
        "id": "kdL7uUrNfIKe",
        "colab_type": "code",
        "colab": {}
      },
      "source": [
        ""
      ],
      "execution_count": 0,
      "outputs": []
    },
    {
      "cell_type": "markdown",
      "metadata": {
        "id": "gQb6RkTa1oyP",
        "colab_type": "text"
      },
      "source": [
        "#STRINGS"
      ]
    },
    {
      "cell_type": "code",
      "metadata": {
        "id": "VIkRtA9S1rbn",
        "colab_type": "code",
        "colab": {
          "base_uri": "https://localhost:8080/",
          "height": 51
        },
        "outputId": "2e6b335e-91cc-4e06-caa4-189338c26c21"
      },
      "source": [
        "s1='python'\n",
        "print(s1)\n",
        "print(type(s1))"
      ],
      "execution_count": 38,
      "outputs": [
        {
          "output_type": "stream",
          "text": [
            "python\n",
            "<class 'str'>\n"
          ],
          "name": "stdout"
        }
      ]
    },
    {
      "cell_type": "code",
      "metadata": {
        "id": "2quYRbfR2KzH",
        "colab_type": "code",
        "colab": {
          "base_uri": "https://localhost:8080/",
          "height": 102
        },
        "outputId": "48f21d08-e8bd-4dec-86f8-23d7dce875a4"
      },
      "source": [
        "s1='phython'\n",
        "print(s1[0])\n",
        "print(s1[5])\n",
        "print(s1[2:])\n",
        "print(s1[::-1])\n",
        "print(s1[-1::-1])"
      ],
      "execution_count": 40,
      "outputs": [
        {
          "output_type": "stream",
          "text": [
            "p\n",
            "o\n",
            "ython\n",
            "nohtyhp\n",
            "nohtyhp\n"
          ],
          "name": "stdout"
        }
      ]
    },
    {
      "cell_type": "code",
      "metadata": {
        "id": "MUKCL_7M2vGH",
        "colab_type": "code",
        "colab": {
          "base_uri": "https://localhost:8080/",
          "height": 51
        },
        "outputId": "6c077588-58fc-4884-bfb6-7c650fa1593d"
      },
      "source": [
        "s1='python'\n",
        "print(s1[len(s1)//2])\n",
        "print(s1[0:6:3])"
      ],
      "execution_count": 41,
      "outputs": [
        {
          "output_type": "stream",
          "text": [
            "h\n",
            "ph\n"
          ],
          "name": "stdout"
        }
      ]
    },
    {
      "cell_type": "code",
      "metadata": {
        "id": "b2iPfKcl3OqX",
        "colab_type": "code",
        "colab": {
          "base_uri": "https://localhost:8080/",
          "height": 34
        },
        "outputId": "b3d656d7-7310-403f-8708-373c45e93f9d"
      },
      "source": [
        "def reverseofstring(str):\n",
        "  return str[::-1]\n",
        "\n",
        "reverseofstring(\"programming\")"
      ],
      "execution_count": 43,
      "outputs": [
        {
          "output_type": "execute_result",
          "data": {
            "text/plain": [
              "'gnimmargorp'"
            ]
          },
          "metadata": {
            "tags": []
          },
          "execution_count": 43
        }
      ]
    },
    {
      "cell_type": "markdown",
      "metadata": {
        "id": "eg_OcakN4Sba",
        "colab_type": "text"
      },
      "source": [
        "#check whether given string is palindrome or not"
      ]
    },
    {
      "cell_type": "code",
      "metadata": {
        "id": "bMKbPQ6L4YsJ",
        "colab_type": "code",
        "colab": {
          "base_uri": "https://localhost:8080/",
          "height": 34
        },
        "outputId": "869ec53b-3ab2-4262-aef8-c8964b9c3c9a"
      },
      "source": [
        "def palindrome(str):\n",
        "  if str==str[::-1]:\n",
        "     return True\n",
        "  else:\n",
        "      return False\n",
        "palindrome('rotor')      "
      ],
      "execution_count": 49,
      "outputs": [
        {
          "output_type": "execute_result",
          "data": {
            "text/plain": [
              "True"
            ]
          },
          "metadata": {
            "tags": []
          },
          "execution_count": 49
        }
      ]
    },
    {
      "cell_type": "markdown",
      "metadata": {
        "id": "tsVKKwUc6wNh",
        "colab_type": "text"
      },
      "source": [
        "#STRING BUILD IN METHODS\n",
        "- upper()\n",
        "- lower()\n",
        "- islower()\n",
        "- isupper()\n",
        "- istitle()\n",
        "- isnumeric()\n",
        "- isalpha()\n",
        "- isspace()"
      ]
    },
    {
      "cell_type": "code",
      "metadata": {
        "id": "otSnAj7a7Ft4",
        "colab_type": "code",
        "colab": {
          "base_uri": "https://localhost:8080/",
          "height": 34
        },
        "outputId": "bd9784a9-49e8-48b2-a6bf-04b64fdcec2b"
      },
      "source": [
        "s1='python'\n",
        "print(s1.upper())"
      ],
      "execution_count": 50,
      "outputs": [
        {
          "output_type": "stream",
          "text": [
            "PYTHON\n"
          ],
          "name": "stdout"
        }
      ]
    },
    {
      "cell_type": "code",
      "metadata": {
        "id": "I9bD0dq37rE4",
        "colab_type": "code",
        "colab": {
          "base_uri": "https://localhost:8080/",
          "height": 153
        },
        "outputId": "efb3f31f-e427-4b4a-e127-8dd0409295f7"
      },
      "source": [
        "s1='python'\n",
        "print(s1.lower())\n",
        "print(s1.upper())\n",
        "print(s1.isupper())\n",
        "print(s1.islower())\n",
        "print(s1.istitle())\n",
        "print(s1.isnumeric())\n",
        "print(s1.isalpha())\n",
        "print(s1.isspace())"
      ],
      "execution_count": 60,
      "outputs": [
        {
          "output_type": "stream",
          "text": [
            "python\n",
            "PYTHON\n",
            "False\n",
            "True\n",
            "False\n",
            "False\n",
            "True\n",
            "False\n"
          ],
          "name": "stdout"
        }
      ]
    },
    {
      "cell_type": "code",
      "metadata": {
        "id": "d9F4L6zl8scC",
        "colab_type": "code",
        "colab": {
          "base_uri": "https://localhost:8080/",
          "height": 34
        },
        "outputId": "e0335077-0427-4435-edd1-0f8de40b6af3"
      },
      "source": [
        "s1=' '\n",
        "print(s1.isspace())"
      ],
      "execution_count": 63,
      "outputs": [
        {
          "output_type": "stream",
          "text": [
            "True\n"
          ],
          "name": "stdout"
        }
      ]
    },
    {
      "cell_type": "markdown",
      "metadata": {
        "id": "5FyxKwLO-5_g",
        "colab_type": "text"
      },
      "source": [
        "#STRING METHODS\n",
        "- join()\n",
        "- replace()\n",
        "- split()"
      ]
    },
    {
      "cell_type": "code",
      "metadata": {
        "id": "St6gLwLQ_Dp6",
        "colab_type": "code",
        "colab": {
          "base_uri": "https://localhost:8080/",
          "height": 34
        },
        "outputId": "dadc75d1-a3d2-4d05-fe86-8d00de474206"
      },
      "source": [
        "s1='python'\n",
        "print(\" @\".join(s1))"
      ],
      "execution_count": 66,
      "outputs": [
        {
          "output_type": "stream",
          "text": [
            "p @y @t @h @o @n\n"
          ],
          "name": "stdout"
        }
      ]
    },
    {
      "cell_type": "code",
      "metadata": {
        "id": "wX2Ouirf_wMJ",
        "colab_type": "code",
        "colab": {
          "base_uri": "https://localhost:8080/",
          "height": 34
        },
        "outputId": "25f1d88a-9507-44fb-887f-ce5af37616bd"
      },
      "source": [
        "s1=\"python is easy to learn\"\n",
        "print(\",\".join(s1))\n"
      ],
      "execution_count": 67,
      "outputs": [
        {
          "output_type": "stream",
          "text": [
            "p,y,t,h,o,n, ,i,s, ,e,a,s,y, ,t,o, ,l,e,a,r,n\n"
          ],
          "name": "stdout"
        }
      ]
    },
    {
      "cell_type": "code",
      "metadata": {
        "id": "vWNhVy2j_8vZ",
        "colab_type": "code",
        "colab": {
          "base_uri": "https://localhost:8080/",
          "height": 51
        },
        "outputId": "dcbab60e-6b79-4bec-e989-aa7c85a80a72"
      },
      "source": [
        "s1='python is easy to learn'\n",
        "print(s1.split())\n",
        "print(s1.split('a'))"
      ],
      "execution_count": 72,
      "outputs": [
        {
          "output_type": "stream",
          "text": [
            "['python', 'is', 'easy', 'to', 'learn']\n",
            "['python is e', 'sy to le', 'rn']\n"
          ],
          "name": "stdout"
        }
      ]
    },
    {
      "cell_type": "code",
      "metadata": {
        "id": "LFUIsv14Agrf",
        "colab_type": "code",
        "colab": {
          "base_uri": "https://localhost:8080/",
          "height": 34
        },
        "outputId": "281b4119-41de-47d4-d106-e1e6411e1e46"
      },
      "source": [
        "s1='python is easy to learn'\n",
        "li=list(s1)\n",
        "print(li,end=\"\")"
      ],
      "execution_count": 74,
      "outputs": [
        {
          "output_type": "stream",
          "text": [
            "['p', 'y', 't', 'h', 'o', 'n', ' ', 'i', 's', ' ', 'e', 'a', 's', 'y', ' ', 't', 'o', ' ', 'l', 'e', 'a', 'r', 'n']"
          ],
          "name": "stdout"
        }
      ]
    },
    {
      "cell_type": "code",
      "metadata": {
        "id": "rWiBMNmrBAD3",
        "colab_type": "code",
        "colab": {
          "base_uri": "https://localhost:8080/",
          "height": 34
        },
        "outputId": "fb44f180-e7ac-4bb9-c3a0-a9fd81e65482"
      },
      "source": [
        "s1='python is easy to learn'\n",
        "print(s1.replace(\"easy\",\"veryeasy\"))"
      ],
      "execution_count": 75,
      "outputs": [
        {
          "output_type": "stream",
          "text": [
            "python is veryeasy to learn\n"
          ],
          "name": "stdout"
        }
      ]
    },
    {
      "cell_type": "code",
      "metadata": {
        "id": "dOHFYXPfB9O5",
        "colab_type": "code",
        "colab": {
          "base_uri": "https://localhost:8080/",
          "height": 34
        },
        "outputId": "40d4c15c-8ee9-4cef-a4eb-435141334963"
      },
      "source": [
        "marks={'peter':[80,85,90],'joe':[86,90,95]}\n",
        "marks"
      ],
      "execution_count": 76,
      "outputs": [
        {
          "output_type": "execute_result",
          "data": {
            "text/plain": [
              "{'joe': [86, 90, 95], 'peter': [80, 85, 90]}"
            ]
          },
          "metadata": {
            "tags": []
          },
          "execution_count": 76
        }
      ]
    },
    {
      "cell_type": "code",
      "metadata": {
        "id": "8mQ4LAaDEDmB",
        "colab_type": "code",
        "colab": {}
      },
      "source": [
        "print(marks())"
      ],
      "execution_count": 0,
      "outputs": []
    },
    {
      "cell_type": "code",
      "metadata": {
        "id": "xU5-WPnFGncx",
        "colab_type": "code",
        "colab": {}
      },
      "source": [
        ""
      ],
      "execution_count": 0,
      "outputs": []
    }
  ]
}